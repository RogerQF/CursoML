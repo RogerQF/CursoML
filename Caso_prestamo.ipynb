{
  "nbformat": 4,
  "nbformat_minor": 0,
  "metadata": {
    "colab": {
      "provenance": [],
      "include_colab_link": true
    },
    "kernelspec": {
      "name": "python3",
      "display_name": "Python 3"
    },
    "language_info": {
      "name": "python"
    }
  },
  "cells": [
    {
      "cell_type": "markdown",
      "metadata": {
        "id": "view-in-github",
        "colab_type": "text"
      },
      "source": [
        "<a href=\"https://colab.research.google.com/github/RogerQF/CursoML/blob/main/Caso_prestamo.ipynb\" target=\"_parent\"><img src=\"https://colab.research.google.com/assets/colab-badge.svg\" alt=\"Open In Colab\"/></a>"
      ]
    },
    {
      "cell_type": "markdown",
      "source": [
        "**Evaluación Continua 2**"
      ],
      "metadata": {
        "id": "a79Isa3RwOh2"
      }
    },
    {
      "cell_type": "code",
      "execution_count": null,
      "metadata": {
        "id": "FjFlwQHBgIzS"
      },
      "outputs": [],
      "source": [
        "#Importar la información\n",
        "import pandas as pd\n",
        "datos = pd.read_csv(\"loan_final313.csv\")"
      ]
    },
    {
      "cell_type": "code",
      "source": [
        "datos"
      ],
      "metadata": {
        "id": "WX_jTIiwhHxG"
      },
      "execution_count": null,
      "outputs": []
    },
    {
      "cell_type": "code",
      "source": [
        "datos1 = datos.drop(columns=['id','year','issue_d','final_d', 'application_type', 'term', 'purpose', 'interest_payments','loan_condition', 'home_ownership','grade', 'income_category','loan_condition_cat',\t'region'])"
      ],
      "metadata": {
        "id": "tUo8TadAhntD"
      },
      "execution_count": null,
      "outputs": []
    },
    {
      "cell_type": "code",
      "source": [
        "datos1"
      ],
      "metadata": {
        "id": "K9PWMsagixdY"
      },
      "execution_count": null,
      "outputs": []
    },
    {
      "cell_type": "code",
      "source": [
        "type(datos1)"
      ],
      "metadata": {
        "id": "AqP9QwBYhdht"
      },
      "execution_count": null,
      "outputs": []
    },
    {
      "cell_type": "code",
      "source": [
        "pip install pingouin\n"
      ],
      "metadata": {
        "id": "v4uhlqrxmSv_"
      },
      "execution_count": null,
      "outputs": []
    },
    {
      "cell_type": "code",
      "source": [
        "import pingouin as pg\n",
        "datos1.pcorr().round(5)"
      ],
      "metadata": {
        "id": "_MJiNlApoM85"
      },
      "execution_count": null,
      "outputs": []
    },
    {
      "cell_type": "code",
      "source": [
        "import pingouin as pg\n",
        "datos1.pcorr().round(5)\n",
        "\n",
        "import seaborn as sns\n",
        "import matplotlib.pyplot as plt\n",
        "\n",
        "plt.figure(figsize=(10,8))\n",
        "sns.heatmap(datos1.corr(), cmap = 'coolwarm')\n"
      ],
      "metadata": {
        "id": "KHJQR9n6ml3E"
      },
      "execution_count": null,
      "outputs": []
    },
    {
      "cell_type": "code",
      "source": [
        "datos1.columns"
      ],
      "metadata": {
        "colab": {
          "base_uri": "https://localhost:8080/"
        },
        "id": "_hU5_-6_p1XW",
        "outputId": "8ed82352-2a50-4630-bdce-838cb4f8ef2a"
      },
      "execution_count": null,
      "outputs": [
        {
          "output_type": "execute_result",
          "data": {
            "text/plain": [
              "Index(['emp_length_int', 'home_ownership_cat', 'annual_inc', 'income_cat',\n",
              "       'loan_amount', 'term_cat', 'application_type_cat', 'purpose_cat',\n",
              "       'interest_payment_cat', 'interest_rate', 'grade_cat', 'dti',\n",
              "       'total_pymnt', 'total_rec_prncp', 'recoveries', 'installment'],\n",
              "      dtype='object')"
            ]
          },
          "metadata": {},
          "execution_count": 66
        }
      ]
    },
    {
      "cell_type": "code",
      "source": [
        "datos1.info()"
      ],
      "metadata": {
        "colab": {
          "base_uri": "https://localhost:8080/"
        },
        "id": "5axPZtRld-7q",
        "outputId": "8769ff42-d0a3-41f6-f1f1-cef28157d4a5"
      },
      "execution_count": null,
      "outputs": [
        {
          "output_type": "stream",
          "name": "stdout",
          "text": [
            "<class 'pandas.core.frame.DataFrame'>\n",
            "RangeIndex: 887380 entries, 0 to 887379\n",
            "Data columns (total 16 columns):\n",
            " #   Column                Non-Null Count   Dtype  \n",
            "---  ------                --------------   -----  \n",
            " 0   emp_length_int        887379 non-null  float64\n",
            " 1   home_ownership_cat    887379 non-null  float64\n",
            " 2   annual_inc            887379 non-null  float64\n",
            " 3   income_cat            887379 non-null  float64\n",
            " 4   loan_amount           887379 non-null  float64\n",
            " 5   term_cat              887379 non-null  float64\n",
            " 6   application_type_cat  887379 non-null  float64\n",
            " 7   purpose_cat           887379 non-null  float64\n",
            " 8   interest_payment_cat  887379 non-null  float64\n",
            " 9   interest_rate         887379 non-null  float64\n",
            " 10  grade_cat             887379 non-null  float64\n",
            " 11  dti                   887379 non-null  float64\n",
            " 12  total_pymnt           887379 non-null  float64\n",
            " 13  total_rec_prncp       887379 non-null  float64\n",
            " 14  recoveries            887379 non-null  float64\n",
            " 15  installment           887379 non-null  float64\n",
            "dtypes: float64(16)\n",
            "memory usage: 108.3 MB\n"
          ]
        }
      ]
    },
    {
      "cell_type": "code",
      "source": [
        "datos1.describe()"
      ],
      "metadata": {
        "id": "soprc9MveJQg"
      },
      "execution_count": null,
      "outputs": []
    },
    {
      "cell_type": "code",
      "source": [
        "type(datos1)"
      ],
      "metadata": {
        "id": "vE6CcKMrtcYg"
      },
      "execution_count": null,
      "outputs": []
    },
    {
      "cell_type": "code",
      "source": [
        "#correlacion parcial\n",
        "pg.partial_corr(datos1, x='emp_length_int', y='interest_rate', method='pearson')\n"
      ],
      "metadata": {
        "id": "HMRxkLK8ti3y"
      },
      "execution_count": null,
      "outputs": []
    },
    {
      "cell_type": "code",
      "source": [
        "pg.partial_corr(datos1, x='annual_inc', y='interest_rate', method='pearson')"
      ],
      "metadata": {
        "id": "9X0149Izi_-g"
      },
      "execution_count": null,
      "outputs": []
    },
    {
      "cell_type": "code",
      "source": [
        "pg.partial_corr(datos1, x='loan_amount', y='interest_rate', method='pearson')"
      ],
      "metadata": {
        "id": "NYYsngDtjFNl"
      },
      "execution_count": null,
      "outputs": []
    },
    {
      "cell_type": "code",
      "source": [
        "pg.partial_corr(datos1, x='grade_cat', y='interest_rate', method='spearman')"
      ],
      "metadata": {
        "id": "QmAkqwl3jPXw"
      },
      "execution_count": null,
      "outputs": []
    },
    {
      "cell_type": "code",
      "source": [
        "#pg.pairwise_corr(datos1,method='pearson', alternative='greater',padjust='bonf').round(3)"
      ],
      "metadata": {
        "id": "U_26tb_6wBpc"
      },
      "execution_count": null,
      "outputs": []
    }
  ]
}